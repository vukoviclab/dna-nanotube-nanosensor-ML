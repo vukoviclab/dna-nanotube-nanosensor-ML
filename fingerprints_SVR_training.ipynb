{
  "nbformat": 4,
  "nbformat_minor": 0,
  "metadata": {
    "colab": {
      "provenance": []
    },
    "kernelspec": {
      "name": "python3",
      "display_name": "Python 3"
    },
    "language_info": {
      "name": "python"
    }
  },
  "cells": [
    {
      "cell_type": "code",
      "execution_count": null,
      "metadata": {
        "colab": {
          "base_uri": "https://localhost:8080/"
        },
        "id": "74fIMoAsPWR2",
        "outputId": "2791f533-1915-455c-c654-0e907276bcee"
      },
      "outputs": [
        {
          "output_type": "stream",
          "name": "stdout",
          "text": [
            "Collecting rdkit\n",
            "  Downloading rdkit-2025.3.6-cp312-cp312-manylinux_2_28_x86_64.whl.metadata (4.1 kB)\n",
            "Requirement already satisfied: numpy in /usr/local/lib/python3.12/dist-packages (from rdkit) (2.0.2)\n",
            "Requirement already satisfied: Pillow in /usr/local/lib/python3.12/dist-packages (from rdkit) (11.3.0)\n",
            "Downloading rdkit-2025.3.6-cp312-cp312-manylinux_2_28_x86_64.whl (36.1 MB)\n",
            "\u001b[2K   \u001b[90m━━━━━━━━━━━━━━━━━━━━━━━━━━━━━━━━━━━━━━━━\u001b[0m \u001b[32m36.1/36.1 MB\u001b[0m \u001b[31m17.8 MB/s\u001b[0m eta \u001b[36m0:00:00\u001b[0m\n",
            "\u001b[?25hInstalling collected packages: rdkit\n",
            "Successfully installed rdkit-2025.3.6\n"
          ]
        }
      ],
      "source": [
        "!pip install rdkit"
      ]
    },
    {
      "cell_type": "code",
      "source": [
        "from rdkit import Chem\n",
        "from rdkit.Chem import AllChem\n",
        "from sklearn.model_selection import train_test_split\n",
        "from sklearn.metrics import accuracy_score, f1_score, confusion_matrix\n",
        "import matplotlib.pyplot as plt\n",
        "import pandas as pd\n",
        "from sklearn.svm import LinearSVR\n",
        "from sklearn.svm import SVR\n",
        "import numpy as np\n",
        "from sklearn.metrics import mean_squared_error\n",
        "from sklearn.metrics import r2_score"
      ],
      "metadata": {
        "id": "nj_snqLLPzK4"
      },
      "execution_count": null,
      "outputs": []
    },
    {
      "cell_type": "code",
      "source": [
        "# upload manually with button \"Choose Files\"\n",
        "from google.colab import files\n",
        "import pandas as pd\n",
        "\n",
        "uploaded = files.upload()\n",
        "df = pd.read_excel('HOMO-LUMO-energies.xlsx')\n",
        "smiles_list = df[\"Smiles\"]\n"
      ],
      "metadata": {
        "id": "0nvcwxaPQmRb",
        "colab": {
          "base_uri": "https://localhost:8080/",
          "height": 73
        },
        "outputId": "cd703f5a-f14f-4e6f-f66a-6561531bba3b"
      },
      "execution_count": null,
      "outputs": [
        {
          "output_type": "display_data",
          "data": {
            "text/plain": [
              "<IPython.core.display.HTML object>"
            ],
            "text/html": [
              "\n",
              "     <input type=\"file\" id=\"files-5d517ecc-0b73-48c4-bacd-38aaeeac71aa\" name=\"files[]\" multiple disabled\n",
              "        style=\"border:none\" />\n",
              "     <output id=\"result-5d517ecc-0b73-48c4-bacd-38aaeeac71aa\">\n",
              "      Upload widget is only available when the cell has been executed in the\n",
              "      current browser session. Please rerun this cell to enable.\n",
              "      </output>\n",
              "      <script>// Copyright 2017 Google LLC\n",
              "//\n",
              "// Licensed under the Apache License, Version 2.0 (the \"License\");\n",
              "// you may not use this file except in compliance with the License.\n",
              "// You may obtain a copy of the License at\n",
              "//\n",
              "//      http://www.apache.org/licenses/LICENSE-2.0\n",
              "//\n",
              "// Unless required by applicable law or agreed to in writing, software\n",
              "// distributed under the License is distributed on an \"AS IS\" BASIS,\n",
              "// WITHOUT WARRANTIES OR CONDITIONS OF ANY KIND, either express or implied.\n",
              "// See the License for the specific language governing permissions and\n",
              "// limitations under the License.\n",
              "\n",
              "/**\n",
              " * @fileoverview Helpers for google.colab Python module.\n",
              " */\n",
              "(function(scope) {\n",
              "function span(text, styleAttributes = {}) {\n",
              "  const element = document.createElement('span');\n",
              "  element.textContent = text;\n",
              "  for (const key of Object.keys(styleAttributes)) {\n",
              "    element.style[key] = styleAttributes[key];\n",
              "  }\n",
              "  return element;\n",
              "}\n",
              "\n",
              "// Max number of bytes which will be uploaded at a time.\n",
              "const MAX_PAYLOAD_SIZE = 100 * 1024;\n",
              "\n",
              "function _uploadFiles(inputId, outputId) {\n",
              "  const steps = uploadFilesStep(inputId, outputId);\n",
              "  const outputElement = document.getElementById(outputId);\n",
              "  // Cache steps on the outputElement to make it available for the next call\n",
              "  // to uploadFilesContinue from Python.\n",
              "  outputElement.steps = steps;\n",
              "\n",
              "  return _uploadFilesContinue(outputId);\n",
              "}\n",
              "\n",
              "// This is roughly an async generator (not supported in the browser yet),\n",
              "// where there are multiple asynchronous steps and the Python side is going\n",
              "// to poll for completion of each step.\n",
              "// This uses a Promise to block the python side on completion of each step,\n",
              "// then passes the result of the previous step as the input to the next step.\n",
              "function _uploadFilesContinue(outputId) {\n",
              "  const outputElement = document.getElementById(outputId);\n",
              "  const steps = outputElement.steps;\n",
              "\n",
              "  const next = steps.next(outputElement.lastPromiseValue);\n",
              "  return Promise.resolve(next.value.promise).then((value) => {\n",
              "    // Cache the last promise value to make it available to the next\n",
              "    // step of the generator.\n",
              "    outputElement.lastPromiseValue = value;\n",
              "    return next.value.response;\n",
              "  });\n",
              "}\n",
              "\n",
              "/**\n",
              " * Generator function which is called between each async step of the upload\n",
              " * process.\n",
              " * @param {string} inputId Element ID of the input file picker element.\n",
              " * @param {string} outputId Element ID of the output display.\n",
              " * @return {!Iterable<!Object>} Iterable of next steps.\n",
              " */\n",
              "function* uploadFilesStep(inputId, outputId) {\n",
              "  const inputElement = document.getElementById(inputId);\n",
              "  inputElement.disabled = false;\n",
              "\n",
              "  const outputElement = document.getElementById(outputId);\n",
              "  outputElement.innerHTML = '';\n",
              "\n",
              "  const pickedPromise = new Promise((resolve) => {\n",
              "    inputElement.addEventListener('change', (e) => {\n",
              "      resolve(e.target.files);\n",
              "    });\n",
              "  });\n",
              "\n",
              "  const cancel = document.createElement('button');\n",
              "  inputElement.parentElement.appendChild(cancel);\n",
              "  cancel.textContent = 'Cancel upload';\n",
              "  const cancelPromise = new Promise((resolve) => {\n",
              "    cancel.onclick = () => {\n",
              "      resolve(null);\n",
              "    };\n",
              "  });\n",
              "\n",
              "  // Wait for the user to pick the files.\n",
              "  const files = yield {\n",
              "    promise: Promise.race([pickedPromise, cancelPromise]),\n",
              "    response: {\n",
              "      action: 'starting',\n",
              "    }\n",
              "  };\n",
              "\n",
              "  cancel.remove();\n",
              "\n",
              "  // Disable the input element since further picks are not allowed.\n",
              "  inputElement.disabled = true;\n",
              "\n",
              "  if (!files) {\n",
              "    return {\n",
              "      response: {\n",
              "        action: 'complete',\n",
              "      }\n",
              "    };\n",
              "  }\n",
              "\n",
              "  for (const file of files) {\n",
              "    const li = document.createElement('li');\n",
              "    li.append(span(file.name, {fontWeight: 'bold'}));\n",
              "    li.append(span(\n",
              "        `(${file.type || 'n/a'}) - ${file.size} bytes, ` +\n",
              "        `last modified: ${\n",
              "            file.lastModifiedDate ? file.lastModifiedDate.toLocaleDateString() :\n",
              "                                    'n/a'} - `));\n",
              "    const percent = span('0% done');\n",
              "    li.appendChild(percent);\n",
              "\n",
              "    outputElement.appendChild(li);\n",
              "\n",
              "    const fileDataPromise = new Promise((resolve) => {\n",
              "      const reader = new FileReader();\n",
              "      reader.onload = (e) => {\n",
              "        resolve(e.target.result);\n",
              "      };\n",
              "      reader.readAsArrayBuffer(file);\n",
              "    });\n",
              "    // Wait for the data to be ready.\n",
              "    let fileData = yield {\n",
              "      promise: fileDataPromise,\n",
              "      response: {\n",
              "        action: 'continue',\n",
              "      }\n",
              "    };\n",
              "\n",
              "    // Use a chunked sending to avoid message size limits. See b/62115660.\n",
              "    let position = 0;\n",
              "    do {\n",
              "      const length = Math.min(fileData.byteLength - position, MAX_PAYLOAD_SIZE);\n",
              "      const chunk = new Uint8Array(fileData, position, length);\n",
              "      position += length;\n",
              "\n",
              "      const base64 = btoa(String.fromCharCode.apply(null, chunk));\n",
              "      yield {\n",
              "        response: {\n",
              "          action: 'append',\n",
              "          file: file.name,\n",
              "          data: base64,\n",
              "        },\n",
              "      };\n",
              "\n",
              "      let percentDone = fileData.byteLength === 0 ?\n",
              "          100 :\n",
              "          Math.round((position / fileData.byteLength) * 100);\n",
              "      percent.textContent = `${percentDone}% done`;\n",
              "\n",
              "    } while (position < fileData.byteLength);\n",
              "  }\n",
              "\n",
              "  // All done.\n",
              "  yield {\n",
              "    response: {\n",
              "      action: 'complete',\n",
              "    }\n",
              "  };\n",
              "}\n",
              "\n",
              "scope.google = scope.google || {};\n",
              "scope.google.colab = scope.google.colab || {};\n",
              "scope.google.colab._files = {\n",
              "  _uploadFiles,\n",
              "  _uploadFilesContinue,\n",
              "};\n",
              "})(self);\n",
              "</script> "
            ]
          },
          "metadata": {}
        },
        {
          "output_type": "stream",
          "name": "stdout",
          "text": [
            "Saving HOMO-LUMO-energies.xlsx to HOMO-LUMO-energies.xlsx\n"
          ]
        }
      ]
    },
    {
      "cell_type": "markdown",
      "source": [
        "# Morgan"
      ],
      "metadata": {
        "id": "w3VFbX2Brvpt"
      }
    },
    {
      "cell_type": "code",
      "source": [
        "mols = [Chem.MolFromSmiles(smiles) for smiles in smiles_list]\n",
        "from rdkit.Chem import rdFingerprintGenerator\n",
        "\n",
        "# Create a Morgan generator (once)\n",
        "fingerprints = rdFingerprintGenerator.GetMorganGenerator(radius=2, fpSize=2048)\n",
        "len(mols)"
      ],
      "metadata": {
        "colab": {
          "base_uri": "https://localhost:8080/"
        },
        "id": "6ofgX0dTrlK0",
        "outputId": "397741a3-5f03-4a00-9b21-eba8d9fba2fd"
      },
      "execution_count": null,
      "outputs": [
        {
          "output_type": "execute_result",
          "data": {
            "text/plain": [
              "63"
            ]
          },
          "metadata": {},
          "execution_count": 6
        }
      ]
    },
    {
      "cell_type": "code",
      "source": [
        "homo_values = df[\"HOMO energy (eV)\"]\n",
        "lumo_values = df[\"LUMO energy (eV)\"]\n",
        "dff_values = df[\"dFF\"]\n",
        "\n",
        "# Convert the RDKit fingerprint objects to NumPy arrays\n",
        "features = np.column_stack((fingerprints, homo_values, lumo_values))"
      ],
      "metadata": {
        "id": "poCn1q2wr68s",
        "colab": {
          "base_uri": "https://localhost:8080/",
          "height": 297
        },
        "outputId": "f33949a9-f000-4e20-c941-fd7573315b91"
      },
      "execution_count": null,
      "outputs": [
        {
          "output_type": "error",
          "ename": "ValueError",
          "evalue": "all the input array dimensions except for the concatenation axis must match exactly, but along dimension 0, the array at index 0 has size 1 and the array at index 1 has size 63",
          "traceback": [
            "\u001b[0;31m---------------------------------------------------------------------------\u001b[0m",
            "\u001b[0;31mValueError\u001b[0m                                Traceback (most recent call last)",
            "\u001b[0;32m/tmp/ipython-input-1436622715.py\u001b[0m in \u001b[0;36m<cell line: 0>\u001b[0;34m()\u001b[0m\n\u001b[1;32m      4\u001b[0m \u001b[0;34m\u001b[0m\u001b[0m\n\u001b[1;32m      5\u001b[0m \u001b[0;31m# Convert the RDKit fingerprint objects to NumPy arrays\u001b[0m\u001b[0;34m\u001b[0m\u001b[0;34m\u001b[0m\u001b[0m\n\u001b[0;32m----> 6\u001b[0;31m \u001b[0mfeatures\u001b[0m \u001b[0;34m=\u001b[0m \u001b[0mnp\u001b[0m\u001b[0;34m.\u001b[0m\u001b[0mcolumn_stack\u001b[0m\u001b[0;34m(\u001b[0m\u001b[0;34m(\u001b[0m\u001b[0mfingerprints\u001b[0m\u001b[0;34m,\u001b[0m \u001b[0mhomo_values\u001b[0m\u001b[0;34m,\u001b[0m \u001b[0mlumo_values\u001b[0m\u001b[0;34m)\u001b[0m\u001b[0;34m)\u001b[0m\u001b[0;34m\u001b[0m\u001b[0;34m\u001b[0m\u001b[0m\n\u001b[0m",
            "\u001b[0;32m/usr/local/lib/python3.12/dist-packages/numpy/lib/_shape_base_impl.py\u001b[0m in \u001b[0;36mcolumn_stack\u001b[0;34m(tup)\u001b[0m\n\u001b[1;32m    660\u001b[0m             \u001b[0marr\u001b[0m \u001b[0;34m=\u001b[0m \u001b[0marray\u001b[0m\u001b[0;34m(\u001b[0m\u001b[0marr\u001b[0m\u001b[0;34m,\u001b[0m \u001b[0mcopy\u001b[0m\u001b[0;34m=\u001b[0m\u001b[0;32mNone\u001b[0m\u001b[0;34m,\u001b[0m \u001b[0msubok\u001b[0m\u001b[0;34m=\u001b[0m\u001b[0;32mTrue\u001b[0m\u001b[0;34m,\u001b[0m \u001b[0mndmin\u001b[0m\u001b[0;34m=\u001b[0m\u001b[0;36m2\u001b[0m\u001b[0;34m)\u001b[0m\u001b[0;34m.\u001b[0m\u001b[0mT\u001b[0m\u001b[0;34m\u001b[0m\u001b[0;34m\u001b[0m\u001b[0m\n\u001b[1;32m    661\u001b[0m         \u001b[0marrays\u001b[0m\u001b[0;34m.\u001b[0m\u001b[0mappend\u001b[0m\u001b[0;34m(\u001b[0m\u001b[0marr\u001b[0m\u001b[0;34m)\u001b[0m\u001b[0;34m\u001b[0m\u001b[0;34m\u001b[0m\u001b[0m\n\u001b[0;32m--> 662\u001b[0;31m     \u001b[0;32mreturn\u001b[0m \u001b[0m_nx\u001b[0m\u001b[0;34m.\u001b[0m\u001b[0mconcatenate\u001b[0m\u001b[0;34m(\u001b[0m\u001b[0marrays\u001b[0m\u001b[0;34m,\u001b[0m \u001b[0;36m1\u001b[0m\u001b[0;34m)\u001b[0m\u001b[0;34m\u001b[0m\u001b[0;34m\u001b[0m\u001b[0m\n\u001b[0m\u001b[1;32m    663\u001b[0m \u001b[0;34m\u001b[0m\u001b[0m\n\u001b[1;32m    664\u001b[0m \u001b[0;34m\u001b[0m\u001b[0m\n",
            "\u001b[0;31mValueError\u001b[0m: all the input array dimensions except for the concatenation axis must match exactly, but along dimension 0, the array at index 0 has size 1 and the array at index 1 has size 63"
          ]
        }
      ]
    },
    {
      "cell_type": "code",
      "source": [
        "with open('out-SVR-Morgan-rbf.txt', 'w') as f:\n",
        "  for i in np.arange(0,200):\n",
        "    #splitting dataset into train and test data\n",
        "    x_train, x_test, y_train, y_test = train_test_split(features, dff_values, test_size=0.20, random_state = i)\n",
        "    regressor = SVR(kernel='rbf')\n",
        "    regressor.fit(x_train, y_train)\n",
        "  # Evaluate the model on the testing dataset\n",
        "    y_pred = regressor.predict(x_test)\n",
        "    mean_squared_error(y_test, y_pred)\n",
        "    r2_score_value = r2_score(y_test, y_pred)\n",
        "\n",
        "    print(r2_score_value, file=f)"
      ],
      "metadata": {
        "id": "7T-0CVJ8txIs"
      },
      "execution_count": null,
      "outputs": []
    },
    {
      "cell_type": "code",
      "source": [
        "import numpy as np\n",
        "from sklearn.model_selection import train_test_split\n",
        "from sklearn.svm import SVR\n",
        "from sklearn.metrics import mean_squared_error, r2_score\n",
        "\n",
        "# features = your fingerprint array\n",
        "# dff_values = your target values\n",
        "\n",
        "r2_scores = []  # store all R²\n",
        "\n",
        "with open('out-SVR-Morgan-rbf.txt', 'w') as f:\n",
        "    for i in np.arange(0,200):\n",
        "        # splitting dataset into train and test data\n",
        "        x_train, x_test, y_train, y_test = train_test_split(\n",
        "            features, dff_values, test_size=0.20, random_state=i\n",
        "        )\n",
        "        regressor = SVR(kernel='rbf')\n",
        "        regressor.fit(x_train, y_train)\n",
        "\n",
        "        # Evaluate the model\n",
        "        y_pred = regressor.predict(x_test)\n",
        "        r2 = r2_score(y_test, y_pred)\n",
        "        r2_scores.append(r2)\n",
        "\n",
        "        f.write(f\"Seed {i}\\tR2: {r2:.6f}\\n\")\n",
        "\n",
        "    # After loop: compute mean and std\n",
        "    mean_r2 = np.mean(r2_scores)\n",
        "    std_r2 = np.std(r2_scores)\n",
        "\n",
        "    f.write(\"\\n\")\n",
        "    f.write(f\"Mean R2 over 200 runs: {mean_r2:.6f}\\n\")\n",
        "    f.write(f\"Std R2 over 200 runs: {std_r2:.6f}\\n\")\n",
        "\n",
        "print(\"Mean R2:\", mean_r2)\n",
        "print(\"Std R2:\", std_r2)\n"
      ],
      "metadata": {
        "id": "i-vaI4Ldr85X"
      },
      "execution_count": null,
      "outputs": []
    },
    {
      "cell_type": "code",
      "source": [
        "with open('out-SVR-Morgan-linear.txt', 'w') as f:\n",
        "  for i in np.arange(0,200):\n",
        "    #splitting dataset into train and test data\n",
        "    x_train, x_test, y_train, y_test = train_test_split(features, dff_values, test_size=0.20, random_state = i)\n",
        "    regressor = SVR(kernel='linear')\n",
        "    regressor.fit(x_train, y_train)\n",
        "  # Evaluate the model on the testing dataset\n",
        "    y_pred = regressor.predict(x_test)\n",
        "    mean_squared_error(y_test, y_pred)\n",
        "    r2_score_value = r2_score(y_test, y_pred)\n",
        "\n",
        "    print(r2_score_value, file=f)"
      ],
      "metadata": {
        "id": "LXAIh-OruAPl"
      },
      "execution_count": null,
      "outputs": []
    },
    {
      "cell_type": "code",
      "source": [
        "with open('out-SVR-Morgan-sigmoid.txt', 'w') as f:\n",
        "  for i in np.arange(0,200):\n",
        "    #splitting dataset into train and test data\n",
        "    x_train, x_test, y_train, y_test = train_test_split(features, dff_values, test_size=0.20, random_state = i)\n",
        "    regressor = SVR(kernel='sigmoid')\n",
        "    regressor.fit(x_train, y_train)\n",
        "  # Evaluate the model on the testing dataset\n",
        "    y_pred = regressor.predict(x_test)\n",
        "    mean_squared_error(y_test, y_pred)\n",
        "    r2_score_value = r2_score(y_test, y_pred)\n",
        "\n",
        "    print(r2_score_value, file=f)"
      ],
      "metadata": {
        "id": "YBqoUVsQuQ3Q"
      },
      "execution_count": null,
      "outputs": []
    },
    {
      "cell_type": "markdown",
      "source": [
        "# MACCS"
      ],
      "metadata": {
        "id": "YBvYq1Kiud6a"
      }
    },
    {
      "cell_type": "code",
      "source": [
        "#MACCS\n",
        "from rdkit.Chem import MACCSkeys\n",
        "\n",
        "mols = [Chem.MolFromSmiles(smiles) for smiles in smiles_list]\n",
        "Maccs_fingerprints = [MACCSkeys.GenMACCSKeys(mol) for mol in mols]"
      ],
      "metadata": {
        "id": "yKX_HBybxa3z"
      },
      "execution_count": null,
      "outputs": []
    },
    {
      "cell_type": "code",
      "source": [],
      "metadata": {
        "id": "RPvImF1kzpii"
      },
      "execution_count": null,
      "outputs": []
    },
    {
      "cell_type": "code",
      "source": [
        "features = np.column_stack((Maccs_fingerprints, homo_values, lumo_values))\n",
        "\n",
        "with open('out-SVR-rbf-MACCS.txt', 'w') as f:\n",
        "  for i in np.arange(0,200):\n",
        "    #splitting dataset into train and test data\n",
        "    x_train, x_test, y_train, y_test = train_test_split(features, dff_values, test_size=0.20, random_state = i)\n",
        "    regressor = SVR(kernel='rbf')\n",
        "    regressor.fit(x_train, y_train)\n",
        "  # Evaluate the model on the testing dataset\n",
        "    y_pred = regressor.predict(x_test)\n",
        "    mean_squared_error(y_test, y_pred)\n",
        "    r2_score_value = r2_score(y_test, y_pred)\n",
        "\n",
        "    print(r2_score_value, file=f)\n"
      ],
      "metadata": {
        "id": "4niLExDgSYDD"
      },
      "execution_count": null,
      "outputs": []
    },
    {
      "cell_type": "code",
      "source": [
        "features = np.column_stack((Maccs_fingerprints, homo_values, lumo_values))\n",
        "\n",
        "with open('out-SVR-sigmoid-MACCS.txt', 'w') as f:\n",
        "  for i in np.arange(0,200):\n",
        "    #splitting dataset into train and test data\n",
        "    x_train, x_test, y_train, y_test = train_test_split(features, dff_values, test_size=0.20, random_state = i)\n",
        "    regressor = SVR(kernel='sigmoid')\n",
        "    regressor.fit(x_train, y_train)\n",
        "  # Evaluate the model on the testing dataset\n",
        "    y_pred = regressor.predict(x_test)\n",
        "    mean_squared_error(y_test, y_pred)\n",
        "    r2_score_value = r2_score(y_test, y_pred)\n",
        "\n",
        "    print(r2_score_value, file=f)"
      ],
      "metadata": {
        "id": "k_ZjYBr2mRrH"
      },
      "execution_count": null,
      "outputs": []
    },
    {
      "cell_type": "code",
      "source": [
        "features = np.column_stack((Maccs_fingerprints, homo_values, lumo_values))\n",
        "\n",
        "with open('out-SVR-linear-MACCS.txt', 'w') as f:\n",
        "  for i in np.arange(0,200):\n",
        "    #splitting dataset into train and test data\n",
        "    x_train, x_test, y_train, y_test = train_test_split(features, dff_values, test_size=0.20, random_state = i)\n",
        "    regressor = SVR(kernel='linear')\n",
        "    regressor.fit(x_train, y_train)\n",
        "  # Evaluate the model on the testing dataset\n",
        "    y_pred = regressor.predict(x_test)\n",
        "    mean_squared_error(y_test, y_pred)\n",
        "    r2_score_value = r2_score(y_test, y_pred)\n",
        "\n",
        "    print(r2_score_value, file=f)"
      ],
      "metadata": {
        "id": "gWSy7RXUmaiI"
      },
      "execution_count": null,
      "outputs": []
    },
    {
      "cell_type": "markdown",
      "source": [
        "# Avalon"
      ],
      "metadata": {
        "id": "fcI0TdjgS7M4"
      }
    },
    {
      "cell_type": "code",
      "source": [
        "pip install rdkit-pypi avalon_framework"
      ],
      "metadata": {
        "colab": {
          "base_uri": "https://localhost:8080/"
        },
        "id": "N1L1xPEaSzT5",
        "outputId": "d1fb9f87-a410-4c70-b0a4-cc69ea3cf0de"
      },
      "execution_count": null,
      "outputs": [
        {
          "output_type": "stream",
          "name": "stdout",
          "text": [
            "Requirement already satisfied: rdkit-pypi in /usr/local/lib/python3.11/dist-packages (2022.9.5)\n",
            "Collecting avalon_framework\n",
            "  Downloading avalon_framework-1.8.2.tar.gz (3.1 kB)\n",
            "  Preparing metadata (setup.py) ... \u001b[?25l\u001b[?25hdone\n",
            "Requirement already satisfied: numpy in /usr/local/lib/python3.11/dist-packages (from rdkit-pypi) (1.26.4)\n",
            "Requirement already satisfied: Pillow in /usr/local/lib/python3.11/dist-packages (from rdkit-pypi) (11.1.0)\n",
            "Building wheels for collected packages: avalon_framework\n",
            "  Building wheel for avalon_framework (setup.py) ... \u001b[?25l\u001b[?25hdone\n",
            "  Created wheel for avalon_framework: filename=avalon_framework-1.8.2-py3-none-any.whl size=3868 sha256=9ccb0fa3318ea57b475c5bcf3f4fcc8949cdfb35c0fd3afb0afa20c0e8633b47\n",
            "  Stored in directory: /root/.cache/pip/wheels/19/a3/86/e8991278ac56c74bdc9382f08c2790b5c3bbcd8ea5c08f9a90\n",
            "Successfully built avalon_framework\n",
            "Installing collected packages: avalon_framework\n",
            "Successfully installed avalon_framework-1.8.2\n"
          ]
        }
      ]
    },
    {
      "cell_type": "code",
      "source": [
        "from rdkit import Chem\n",
        "from rdkit.Avalon import pyAvalonTools"
      ],
      "metadata": {
        "id": "mGTF9Rymgr9q"
      },
      "execution_count": null,
      "outputs": []
    },
    {
      "cell_type": "code",
      "source": [
        "Avalon_fingerprints = [pyAvalonTools.GetAvalonFP(mol) for mol in mols]"
      ],
      "metadata": {
        "id": "BGp_QrJqgxuQ"
      },
      "execution_count": null,
      "outputs": []
    },
    {
      "cell_type": "code",
      "source": [
        "features = np.column_stack((Avalon_fingerprints, homo_values, lumo_values))\n",
        "\n",
        "with open('out-SVR-rbf-Avalon.txt', 'w') as f:\n",
        "  for i in np.arange(0,200):\n",
        "    #splitting dataset into train and test data\n",
        "    x_train, x_test, y_train, y_test = train_test_split(features, dff_values, test_size=0.20, random_state = i)\n",
        "    regressor = SVR(kernel='rbf')\n",
        "    regressor.fit(x_train, y_train)\n",
        "  # Evaluate the model on the testing dataset\n",
        "    y_pred = regressor.predict(x_test)\n",
        "    mean_squared_error(y_test, y_pred)\n",
        "    r2_score_value = r2_score(y_test, y_pred)\n",
        "\n",
        "    print(r2_score_value, file=f)"
      ],
      "metadata": {
        "id": "lJzbbMDsg8Nz"
      },
      "execution_count": null,
      "outputs": []
    },
    {
      "cell_type": "code",
      "source": [
        "features = np.column_stack((Avalon_fingerprints, homo_values, lumo_values))\n",
        "\n",
        "with open('out-SVR-sigmoid-Avalon.txt', 'w') as f:\n",
        "  for i in np.arange(0,200):\n",
        "    #splitting dataset into train and test data\n",
        "    x_train, x_test, y_train, y_test = train_test_split(features, dff_values, test_size=0.20, random_state = i)\n",
        "    regressor = SVR(kernel='sigmoid')\n",
        "    regressor.fit(x_train, y_train)\n",
        "  # Evaluate the model on the testing dataset\n",
        "    y_pred = regressor.predict(x_test)\n",
        "    mean_squared_error(y_test, y_pred)\n",
        "    r2_score_value = r2_score(y_test, y_pred)\n",
        "\n",
        "    print(r2_score_value, file=f)"
      ],
      "metadata": {
        "id": "Xh8PiUkahSmM"
      },
      "execution_count": null,
      "outputs": []
    },
    {
      "cell_type": "code",
      "source": [
        "features = np.column_stack((Avalon_fingerprints, homo_values, lumo_values))\n",
        "\n",
        "with open('out-SVR-linear-Avalon.txt', 'w') as f:\n",
        "  for i in np.arange(0,200):\n",
        "    #splitting dataset into train and test data\n",
        "    x_train, x_test, y_train, y_test = train_test_split(features, dff_values, test_size=0.20, random_state = i)\n",
        "    regressor = SVR(kernel='linear')\n",
        "    regressor.fit(x_train, y_train)\n",
        "  # Evaluate the model on the testing dataset\n",
        "    y_pred = regressor.predict(x_test)\n",
        "    mean_squared_error(y_test, y_pred)\n",
        "    r2_score_value = r2_score(y_test, y_pred)\n",
        "    #r2_array = np.array(r2_score)\n",
        "    #print(r2_array, file=f)\n",
        "  #print(r2_score_value)\n",
        "\n",
        "    print(r2_score_value, file=f)"
      ],
      "metadata": {
        "id": "Xp2orN4khbfW"
      },
      "execution_count": null,
      "outputs": []
    },
    {
      "cell_type": "markdown",
      "source": [
        "# Daylight"
      ],
      "metadata": {
        "id": "U-InDp1dS9S1"
      }
    },
    {
      "cell_type": "code",
      "source": [
        "from rdkit import Chem\n",
        "from rdkit.Chem import DataStructs\n",
        "Daylight_fingerprints = [Chem.RDKFingerprint(mol) for mol in mols]"
      ],
      "metadata": {
        "id": "Gv9p5KIfh0ui"
      },
      "execution_count": null,
      "outputs": []
    },
    {
      "cell_type": "code",
      "source": [
        "features = np.column_stack((Daylight_fingerprints, homo_values, lumo_values))\n",
        "\n",
        "with open('out-SVR-rbf-Daylight.txt', 'w') as f:\n",
        "  for i in np.arange(0,200):\n",
        "    #splitting dataset into train and test data\n",
        "    x_train, x_test, y_train, y_test = train_test_split(features, dff_values, test_size=0.20, random_state = i)\n",
        "    regressor = SVR(kernel='rbf')\n",
        "    regressor.fit(x_train, y_train)\n",
        "  # Evaluate the model on the testing dataset\n",
        "    y_pred = regressor.predict(x_test)\n",
        "    mean_squared_error(y_test, y_pred)\n",
        "    r2_score_value = r2_score(y_test, y_pred)\n",
        "\n",
        "    print(r2_score_value, file=f)"
      ],
      "metadata": {
        "id": "xbKrI1rXhz5s"
      },
      "execution_count": null,
      "outputs": []
    },
    {
      "cell_type": "code",
      "source": [
        "features = np.column_stack((Daylight_fingerprints, homo_values, lumo_values))\n",
        "\n",
        "with open('out-SVR-linear-Daylight.txt', 'w') as f:\n",
        "  for i in np.arange(0,200):\n",
        "    #splitting dataset into train and test data\n",
        "    x_train, x_test, y_train, y_test = train_test_split(features, dff_values, test_size=0.20, random_state = i)\n",
        "    regressor = SVR(kernel='linear')\n",
        "    regressor.fit(x_train, y_train)\n",
        "  # Evaluate the model on the testing dataset\n",
        "    y_pred = regressor.predict(x_test)\n",
        "    mean_squared_error(y_test, y_pred)\n",
        "    r2_score_value = r2_score(y_test, y_pred)\n",
        "\n",
        "    print(r2_score_value, file=f)"
      ],
      "metadata": {
        "id": "rP7ZucNdi4-d"
      },
      "execution_count": null,
      "outputs": []
    },
    {
      "cell_type": "code",
      "source": [
        "features = np.column_stack((Daylight_fingerprints, homo_values, lumo_values))\n",
        "\n",
        "with open('out-SVR-sigmoid-Daylight.txt', 'w') as f:\n",
        "  for i in np.arange(0,200):\n",
        "    #splitting dataset into train and test data\n",
        "    x_train, x_test, y_train, y_test = train_test_split(features, dff_values, test_size=0.20, random_state = i)\n",
        "    regressor = SVR(kernel='sigmoid')\n",
        "    regressor.fit(x_train, y_train)\n",
        "  # Evaluate the model on the testing dataset\n",
        "    y_pred = regressor.predict(x_test)\n",
        "    mean_squared_error(y_test, y_pred)\n",
        "    r2_score_value = r2_score(y_test, y_pred)\n",
        "\n",
        "    print(r2_score_value, file=f)"
      ],
      "metadata": {
        "id": "g5yrL9nbi-4E"
      },
      "execution_count": null,
      "outputs": []
    },
    {
      "cell_type": "markdown",
      "source": [
        "# AtomPairs"
      ],
      "metadata": {
        "id": "LMFf_W5ETAW1"
      }
    },
    {
      "cell_type": "code",
      "source": [
        "from rdkit.Chem import rdMolDescriptors\n",
        "\n",
        "mols = [Chem.MolFromSmiles(smiles) for smiles in smiles_list]\n",
        "atom_pairs_fingerprints = [rdMolDescriptors.GetHashedAtomPairFingerprintAsBitVect(mol) for mol in mols]"
      ],
      "metadata": {
        "id": "WEuKhTWNjNi0"
      },
      "execution_count": null,
      "outputs": []
    },
    {
      "cell_type": "code",
      "source": [
        "import numpy as np\n",
        "import matplotlib.pyplot as plt\n",
        "import pandas as pd\n",
        "from sklearn.model_selection import train_test_split\n",
        "from sklearn.svm import SVR\n",
        "from sklearn.metrics import mean_squared_error, r2_score\n",
        "\n",
        "# Assuming atom_pairs_fingerprints, homo_values, lumo_values, dff_values are defined\n",
        "features = np.column_stack((atom_pairs_fingerprints, homo_values, lumo_values))\n",
        "\n",
        "with open('out-SVR-sigmoid-atompairs.txt', 'w') as f:\n",
        "    for i in np.arange(0, 200):\n",
        "        # Splitting dataset into train and test data\n",
        "        x_train, x_test, y_train, y_test = train_test_split(features, dff_values, test_size=0.20, random_state=i)\n",
        "\n",
        "        # Training SVR model\n",
        "        regressor = SVR(kernel='sigmoid')\n",
        "        regressor.fit(x_train, y_train)\n",
        "\n",
        "        # Predicting the output\n",
        "        y_pred = regressor.predict(x_test)\n",
        "\n",
        "        # Calculate metrics\n",
        "        mse = mean_squared_error(y_test, y_pred)\n",
        "        r2_score_value = r2_score(y_test, y_pred)\n",
        "\n",
        "        print(r2_score_value, file=f)\n",
        "\n",
        "        # Only save the data and plot if r2_score_value > 0.8\n",
        "        if r2_score_value > 0.8:\n",
        "            # Plot y_pred vs y_test\n",
        "            plt.figure(figsize=(8, 6))\n",
        "            plt.scatter(y_test, y_pred, color='blue', label=\"Predicted vs Actual\")\n",
        "            plt.plot([min(y_test), max(y_test)], [min(y_test), max(y_test)], color='red', label=\"Perfect Fit\")\n",
        "            plt.xlabel(\"Actual Values (y_test)\")\n",
        "            plt.ylabel(\"Predicted Values (y_pred)\")\n",
        "            plt.title(f\"y_pred vs y_test (Iteration {i}, R² = {r2_score_value:.2f})\")\n",
        "            plt.legend()\n",
        "            plt.show()\n",
        "\n",
        "            # Save the plot\n",
        "            #plt.savefig(f'y_pred_vs_y_test_iteration_{i}_r2_{r2_score_value:.2f}.png')\n",
        "            plt.close()\n",
        "\n",
        "            # Save the R² value, y_test, and y_pred to a CSV file\n",
        "            data = {\n",
        "                'y_test': y_test,\n",
        "                'y_pred': y_pred\n",
        "            }\n",
        "            df = pd.DataFrame(data)\n",
        "            df['r2_score'] = r2_score_value  # Adding the r2 value to the DataFrame\n",
        "\n",
        "            # Save the DataFrame to a CSV file\n",
        "            df.to_csv(f'output-atompairs-linear_{i}_r2_{r2_score_value:.2f}.csv', index=False)\n",
        "\n",
        "\n",
        "\n",
        "\n"
      ],
      "metadata": {
        "id": "fnsUUXmfizlZ",
        "colab": {
          "base_uri": "https://localhost:8080/",
          "height": 507
        },
        "outputId": "06e4e0c1-60ef-4451-d43a-617bb1914935"
      },
      "execution_count": null,
      "outputs": [
        {
          "output_type": "display_data",
          "data": {
            "text/plain": [
              "<Figure size 800x600 with 1 Axes>"
            ],
            "image/png": "[encoded data removed]"
          },
          "metadata": {}
        }
      ]
    },
    {
      "cell_type": "code",
      "source": [
        "features = np.column_stack((atom_pairs_fingerprints, homo_values, lumo_values))\n",
        "\n",
        "with open('out-SVR-rbf-atompairs.txt', 'w') as f:\n",
        "  for i in np.arange(0,200):\n",
        "    #splitting dataset into train and test data\n",
        "    x_train, x_test, y_train, y_test = train_test_split(features, dff_values, test_size=0.20, random_state = i)\n",
        "    regressor = SVR(kernel='rbf')\n",
        "    regressor.fit(x_train, y_train)\n",
        "  # Evaluate the model on the testing dataset\n",
        "    y_pred = regressor.predict(x_test)\n",
        "    mean_squared_error(y_test, y_pred)\n",
        "    r2_score_value = r2_score(y_test, y_pred)\n",
        "\n",
        "    print(r2_score_value, file=f)"
      ],
      "metadata": {
        "id": "aiJ9KgcqmjTu"
      },
      "execution_count": null,
      "outputs": []
    },
    {
      "cell_type": "code",
      "source": [
        "import numpy as np\n",
        "import pandas as pd\n",
        "from rdkit import Chem\n",
        "from rdkit.Chem import rdMolDescriptors\n",
        "from sklearn.model_selection import train_test_split\n",
        "from sklearn.svm import SVR\n",
        "from sklearn.metrics import r2_score, mean_squared_error\n",
        "\n",
        "# === Load and preprocess data ===\n",
        "df = pd.read_excel(\"HOMO-LUMO-energies.xlsx\")\n",
        "df.columns = [\"Cmpd Lab\", \"Smiles\", \"dFF\", \"HOMO energy (eV)\", \"LUMO energy (eV)\"]\n",
        "\n",
        "# Extract relevant data\n",
        "smiles_list = df[\"Smiles\"].tolist()\n",
        "homo_values = df[\"HOMO energy (eV)\"].to_numpy().astype(float)\n",
        "lumo_values = df[\"LUMO energy (eV)\"].to_numpy().astype(float)\n",
        "dff_values = df[\"dFF\"].to_numpy().astype(float)\n",
        "\n",
        "# === Generate AtomPairs fingerprints ===\n",
        "mols = [Chem.MolFromSmiles(smiles) for smiles in smiles_list]\n",
        "atom_pairs_fps = [rdMolDescriptors.GetHashedAtomPairFingerprintAsBitVect(mol) for mol in mols]\n",
        "fingerprints_array = np.array([list(map(int, fp.ToBitString())) for fp in atom_pairs_fps])\n",
        "\n",
        "# Combine fingerprints with raw HOMO/LUMO energies (not scaled)\n",
        "features = np.column_stack((fingerprints_array, homo_values, lumo_values))\n",
        "\n",
        "# === SVR modeling over 200 runs ===\n",
        "best_r2 = -np.inf\n",
        "best_model_index = -1\n",
        "\n",
        "with open(\"out-SVR-linear-atompairs-unscaled.txt\", \"w\") as f:\n",
        "    for i in range(200):\n",
        "        x_train, x_test, y_train, y_test = train_test_split(features, dff_values, test_size=0.20, random_state=i)\n",
        "        regressor = SVR(kernel=\"linear\")\n",
        "        regressor.fit(x_train, y_train)\n",
        "        y_pred = regressor.predict(x_test)\n",
        "        r2 = r2_score(y_test, y_pred)\n",
        "\n",
        "        # Save all scores\n",
        "        print(r2, file=f)\n",
        "\n",
        "        # Track best R2 and model index\n",
        "        if r2 > best_r2:\n",
        "            best_r2 = r2\n",
        "            best_model_index = i + 1  # 1-based index\n",
        "\n",
        "# === Print the best R2 score and model number ===\n",
        "print(f\"Best R² score (unscaled energy): {best_r2:.4f} (Model {best_model_index})\")\n"
      ],
      "metadata": {
        "id": "EPyTn7bITvfT",
        "colab": {
          "base_uri": "https://localhost:8080/"
        },
        "outputId": "85d2cc6f-4b7f-416f-90bc-1dae1f9f0386"
      },
      "execution_count": null,
      "outputs": [
        {
          "output_type": "stream",
          "name": "stdout",
          "text": [
            "Best R² score (unscaled energy): 0.8085 (Model 19)\n"
          ]
        }
      ]
    },
    {
      "cell_type": "markdown",
      "source": [
        "# Topological Torsion"
      ],
      "metadata": {
        "id": "fgBvGOKZT0ov"
      }
    },
    {
      "cell_type": "code",
      "source": [
        "mols = [Chem.MolFromSmiles(smiles) for smiles in smiles_list]\n",
        "torsion_fingerprints = [rdMolDescriptors.GetHashedTopologicalTorsionFingerprintAsBitVect(mol) for mol in mols]"
      ],
      "metadata": {
        "id": "kdly3qxLT6Zn"
      },
      "execution_count": null,
      "outputs": []
    },
    {
      "cell_type": "code",
      "source": [
        "features = np.column_stack((torsion_fingerprints, homo_values, lumo_values))\n",
        "\n",
        "with open('out-SVR-linear-torsion.txt', 'w') as f:\n",
        "  for i in np.arange(0,200):\n",
        "    #splitting dataset into train and test data\n",
        "    x_train, x_test, y_train, y_test = train_test_split(features, dff_values, test_size=0.20, random_state = i)\n",
        "    regressor = SVR(kernel='linear')\n",
        "    regressor.fit(x_train, y_train)\n",
        "  # Evaluate the model on the testing dataset\n",
        "    y_pred = regressor.predict(x_test)\n",
        "    mean_squared_error(y_test, y_pred)\n",
        "    r2_score_value = r2_score(y_test, y_pred)\n",
        "\n",
        "    print(r2_score_value, file=f)"
      ],
      "metadata": {
        "id": "B1uCnIMAUEtB"
      },
      "execution_count": null,
      "outputs": []
    },
    {
      "cell_type": "code",
      "source": [
        "features = np.column_stack((torsion_fingerprints, homo_values, lumo_values))\n",
        "\n",
        "with open('out-SVR-rbf-torsion.txt', 'w') as f:\n",
        "  for i in np.arange(0,200):\n",
        "    #splitting dataset into train and test data\n",
        "    x_train, x_test, y_train, y_test = train_test_split(features, dff_values, test_size=0.20, random_state = i)\n",
        "    regressor = SVR(kernel='rbf')\n",
        "    regressor.fit(x_train, y_train)\n",
        "  # Evaluate the model on the testing dataset\n",
        "    y_pred = regressor.predict(x_test)\n",
        "    mean_squared_error(y_test, y_pred)\n",
        "    r2_score_value = r2_score(y_test, y_pred)\n",
        "\n",
        "    print(r2_score_value, file=f)"
      ],
      "metadata": {
        "id": "DTuorzcqULW4"
      },
      "execution_count": null,
      "outputs": []
    },
    {
      "cell_type": "code",
      "source": [
        "features = np.column_stack((torsion_fingerprints, homo_values, lumo_values))\n",
        "\n",
        "with open('out-SVR-sigmoid-torsion.txt', 'w') as f:\n",
        "  for i in np.arange(0,200):\n",
        "    #splitting dataset into train and test data\n",
        "    x_train, x_test, y_train, y_test = train_test_split(features, dff_values, test_size=0.20, random_state = i)\n",
        "    regressor = SVR(kernel='sigmoid')\n",
        "    regressor.fit(x_train, y_train)\n",
        "  # Evaluate the model on the testing dataset\n",
        "    y_pred = regressor.predict(x_test)\n",
        "    mean_squared_error(y_test, y_pred)\n",
        "    r2_score_value = r2_score(y_test, y_pred)\n",
        "\n",
        "    print(r2_score_value, file=f)"
      ],
      "metadata": {
        "id": "Oh_n0357URUY"
      },
      "execution_count": null,
      "outputs": []
    },
    {
      "cell_type": "code",
      "source": [
        "# Fingerprints + SVR: report per-run R2 and mean/std R2 for each (FP, kernel)\n",
        "\n",
        "import numpy as np\n",
        "import pandas as pd\n",
        "from rdkit import Chem\n",
        "from rdkit.Chem import AllChem, MACCSkeys, rdMolDescriptors\n",
        "from rdkit.Avalon import pyAvalonTools\n",
        "from sklearn.model_selection import train_test_split\n",
        "from sklearn.svm import SVR\n",
        "from sklearn.metrics import r2_score\n",
        "\n",
        "# ---------------------------\n",
        "# Config\n",
        "# ---------------------------\n",
        "N_RUNS = 200\n",
        "TEST_SIZE = 0.20\n",
        "RANDOM_BASE = 0\n",
        "\n",
        "DATA_XLSX = \"HOMO-LUMO-energies.xlsx\"\n",
        "SMILES_COL = \"Smiles\"\n",
        "LABEL_COL  = \"Cmpd Label\"\n",
        "HOMO_COL   = \"HOMO energy (eV)\"\n",
        "LUMO_COL   = \"LUMO energy (eV)\"\n",
        "TARGET_COL = \"dFF\"\n",
        "\n",
        "FP_SIZE = 2048  # for bitvect sizes where applicable\n",
        "\n",
        "KERNELS = [\"linear\", \"rbf\", \"sigmoid\"]\n",
        "\n",
        "# ---------------------------\n",
        "# Helpers\n",
        "# ---------------------------\n",
        "def explicit_bitvects_to_numpy(bitvects):\n",
        "    \"\"\"Convert list of RDKit ExplicitBitVect to dense float32 numpy array.\"\"\"\n",
        "    arr = np.array([list(bv) for bv in bitvects], dtype=np.float32)\n",
        "    return arr\n",
        "\n",
        "def build_features_from_bitvects(bitvects, homo, lumo):\n",
        "    X_bits = explicit_bitvects_to_numpy(bitvects)\n",
        "    E = np.column_stack([np.asarray(homo, dtype=np.float32),\n",
        "                         np.asarray(lumo, dtype=np.float32)])\n",
        "    return np.hstack([X_bits, E])\n",
        "\n",
        "def run_svr_over_splits(X, y, kernel, out_txt):\n",
        "    \"\"\"\n",
        "    Train SVR over N_RUNS random splits; write per-run R2 to out_txt.\n",
        "    Return list of R2s for aggregation.\n",
        "    \"\"\"\n",
        "    r2s = []\n",
        "    with open(out_txt, \"w\") as f:\n",
        "        for i in range(N_RUNS):\n",
        "            xtr, xte, ytr, yte = train_test_split(\n",
        "                X, y, test_size=TEST_SIZE, random_state=RANDOM_BASE + i\n",
        "            )\n",
        "            model = SVR(kernel=kernel)\n",
        "            model.fit(xtr, ytr)\n",
        "            ypred = model.predict(xte)\n",
        "            r2 = r2_score(yte, ypred)\n",
        "            r2s.append(r2)\n",
        "            f.write(f\"Seed {i:03d}\\tR2: {r2:.6f}\\n\")\n",
        "        f.write(\"\\n\")\n",
        "        f.write(f\"Mean R2 over {N_RUNS} runs: {np.mean(r2s):.6f}\\n\")\n",
        "        f.write(f\"Std  R2 over {N_RUNS} runs: {np.std(r2s):.6f}\\n\")\n",
        "    return r2s\n",
        "\n",
        "def print_mean_std(model_name, r2s):\n",
        "    print(f\"{model_name:30s}  Mean R2 = {np.mean(r2s):.4f}   Std = {np.std(r2s):.4f}\")\n",
        "\n",
        "# ---------------------------\n",
        "# Load data\n",
        "# ---------------------------\n",
        "df = pd.read_excel(DATA_XLSX)\n",
        "smiles_list = df[SMILES_COL].astype(str).tolist()\n",
        "homo_values = df[HOMO_COL].values\n",
        "lumo_values = df[LUMO_COL].values\n",
        "y = df[TARGET_COL].astype(float).values\n",
        "\n",
        "mols = [Chem.MolFromSmiles(s) for s in smiles_list]\n",
        "mols = [m for m in mols if m is not None]\n",
        "\n",
        "# ---------------------------\n",
        "# Prepare all fingerprints\n",
        "# ---------------------------\n",
        "print(\"Generating fingerprints...\")\n",
        "\n",
        "# Morgan (ECFP4) bits\n",
        "fp_morgan = [AllChem.GetMorganFingerprintAsBitVect(m, 2, nBits=FP_SIZE) for m in mols]\n",
        "X_morgan = build_features_from_bitvects(fp_morgan, homo_values, lumo_values)\n",
        "\n",
        "# MACCS bits (166-bit)\n",
        "fp_maccs = [MACCSkeys.GenMACCSKeys(m) for m in mols]\n",
        "X_maccs = build_features_from_bitvects(fp_maccs, homo_values, lumo_values)\n",
        "\n",
        "# Avalon bits\n",
        "fp_avalon = [pyAvalonTools.GetAvalonFP(m, nBits=FP_SIZE) for m in mols]\n",
        "X_avalon = build_features_from_bitvects(fp_avalon, homo_values, lumo_values)\n",
        "\n",
        "# Daylight / RDKit topological bits\n",
        "fp_daylight = [Chem.RDKFingerprint(m, fpSize=FP_SIZE) for m in mols]\n",
        "X_daylight = build_features_from_bitvects(fp_daylight, homo_values, lumo_values)\n",
        "\n",
        "# AtomPairs bits\n",
        "fp_atompairs = [rdMolDescriptors.GetHashedAtomPairFingerprintAsBitVect(m, nBits=FP_SIZE) for m in mols]\n",
        "X_atompairs = build_features_from_bitvects(fp_atompairs, homo_values, lumo_values)\n",
        "\n",
        "# Topological Torsion bits\n",
        "fp_torsion = [rdMolDescriptors.GetHashedTopologicalTorsionFingerprintAsBitVect(m, nBits=FP_SIZE) for m in mols]\n",
        "X_torsion = build_features_from_bitvects(fp_torsion, homo_values, lumo_values)\n",
        "\n",
        "# ---------------------------\n",
        "# Run models & collect summaries\n",
        "# ---------------------------\n",
        "results = {}\n",
        "\n",
        "def run_block(X, name_prefix):\n",
        "    for k in KERNELS:\n",
        "        out_name = f\"out-SVR-{name_prefix}-{k}.txt\"\n",
        "        r2s = run_svr_over_splits(X, y, kernel=k, out_txt=out_name)\n",
        "        key = f\"{name_prefix}-{k}\"\n",
        "        results[key] = (np.mean(r2s), np.std(r2s))\n",
        "        print_mean_std(key, r2s)\n",
        "\n",
        "print(\"\\nTraining models and computing mean/std R2 ...\\n\")\n",
        "\n",
        "run_block(X_morgan,   \"Morgan\")\n",
        "run_block(X_maccs,    \"MACCS\")\n",
        "run_block(X_avalon,   \"Avalon\")\n",
        "run_block(X_daylight, \"Daylight\")\n",
        "run_block(X_atompairs,\"AtomPairs\")\n",
        "run_block(X_torsion,  \"Torsion\")\n",
        "\n",
        "# ---------------------------\n",
        "# Print a compact summary table\n",
        "# ---------------------------\n",
        "print(\"\\n\" + \"=\"*62)\n",
        "print(f\"{'Model':30s} | {'Mean R2':>8s} | {'Std R2':>8s}\")\n",
        "print(\"-\"*62)\n",
        "for key, (m, s) in results.items():\n",
        "    print(f\"{key:30s} | {m:8.4f} | {s:8.4f}\")\n",
        "print(\"=\"*62)\n"
      ],
      "metadata": {
        "colab": {
          "base_uri": "https://localhost:8080/"
        },
        "id": "RxOPiBDF1OTc",
        "outputId": "3b759ad7-06b9-4162-fd15-92a9f57103e6"
      },
      "execution_count": null,
      "outputs": [
        {
          "output_type": "stream",
          "name": "stdout",
          "text": [
            "Generating fingerprints...\n"
          ]
        },
        {
          "output_type": "stream",
          "name": "stderr",
          "text": [
            "[23:22:45] DEPRECATION WARNING: please use MorganGenerator\n",
            "[23:22:45] DEPRECATION WARNING: please use MorganGenerator\n",
            "[23:22:45] DEPRECATION WARNING: please use MorganGenerator\n",
            "[23:22:45] DEPRECATION WARNING: please use MorganGenerator\n",
            "[23:22:45] DEPRECATION WARNING: please use MorganGenerator\n",
            "[23:22:45] DEPRECATION WARNING: please use MorganGenerator\n",
            "[23:22:45] DEPRECATION WARNING: please use MorganGenerator\n",
            "[23:22:45] DEPRECATION WARNING: please use MorganGenerator\n",
            "[23:22:45] DEPRECATION WARNING: please use MorganGenerator\n",
            "[23:22:45] DEPRECATION WARNING: please use MorganGenerator\n",
            "[23:22:45] DEPRECATION WARNING: please use MorganGenerator\n",
            "[23:22:45] DEPRECATION WARNING: please use MorganGenerator\n",
            "[23:22:45] DEPRECATION WARNING: please use MorganGenerator\n",
            "[23:22:45] DEPRECATION WARNING: please use MorganGenerator\n",
            "[23:22:45] DEPRECATION WARNING: please use MorganGenerator\n",
            "[23:22:45] DEPRECATION WARNING: please use MorganGenerator\n",
            "[23:22:45] DEPRECATION WARNING: please use MorganGenerator\n",
            "[23:22:45] DEPRECATION WARNING: please use MorganGenerator\n",
            "[23:22:45] DEPRECATION WARNING: please use MorganGenerator\n",
            "[23:22:45] DEPRECATION WARNING: please use MorganGenerator\n",
            "[23:22:45] DEPRECATION WARNING: please use MorganGenerator\n",
            "[23:22:45] DEPRECATION WARNING: please use MorganGenerator\n",
            "[23:22:45] DEPRECATION WARNING: please use MorganGenerator\n",
            "[23:22:45] DEPRECATION WARNING: please use MorganGenerator\n",
            "[23:22:45] DEPRECATION WARNING: please use MorganGenerator\n",
            "[23:22:45] DEPRECATION WARNING: please use MorganGenerator\n",
            "[23:22:45] DEPRECATION WARNING: please use MorganGenerator\n",
            "[23:22:45] DEPRECATION WARNING: please use MorganGenerator\n",
            "[23:22:45] DEPRECATION WARNING: please use MorganGenerator\n",
            "[23:22:45] DEPRECATION WARNING: please use MorganGenerator\n",
            "[23:22:45] DEPRECATION WARNING: please use MorganGenerator\n",
            "[23:22:45] DEPRECATION WARNING: please use MorganGenerator\n",
            "[23:22:45] DEPRECATION WARNING: please use MorganGenerator\n",
            "[23:22:45] DEPRECATION WARNING: please use MorganGenerator\n",
            "[23:22:45] DEPRECATION WARNING: please use MorganGenerator\n",
            "[23:22:45] DEPRECATION WARNING: please use MorganGenerator\n",
            "[23:22:45] DEPRECATION WARNING: please use MorganGenerator\n",
            "[23:22:45] DEPRECATION WARNING: please use MorganGenerator\n",
            "[23:22:45] DEPRECATION WARNING: please use MorganGenerator\n",
            "[23:22:45] DEPRECATION WARNING: please use MorganGenerator\n",
            "[23:22:45] DEPRECATION WARNING: please use MorganGenerator\n",
            "[23:22:45] DEPRECATION WARNING: please use MorganGenerator\n",
            "[23:22:45] DEPRECATION WARNING: please use MorganGenerator\n",
            "[23:22:45] DEPRECATION WARNING: please use MorganGenerator\n",
            "[23:22:45] DEPRECATION WARNING: please use MorganGenerator\n",
            "[23:22:45] DEPRECATION WARNING: please use MorganGenerator\n",
            "[23:22:45] DEPRECATION WARNING: please use MorganGenerator\n",
            "[23:22:45] DEPRECATION WARNING: please use MorganGenerator\n",
            "[23:22:45] DEPRECATION WARNING: please use MorganGenerator\n",
            "[23:22:45] DEPRECATION WARNING: please use MorganGenerator\n",
            "[23:22:45] DEPRECATION WARNING: please use MorganGenerator\n",
            "[23:22:45] DEPRECATION WARNING: please use MorganGenerator\n",
            "[23:22:45] DEPRECATION WARNING: please use MorganGenerator\n",
            "[23:22:45] DEPRECATION WARNING: please use MorganGenerator\n",
            "[23:22:45] DEPRECATION WARNING: please use MorganGenerator\n",
            "[23:22:45] DEPRECATION WARNING: please use MorganGenerator\n",
            "[23:22:45] DEPRECATION WARNING: please use MorganGenerator\n",
            "[23:22:45] DEPRECATION WARNING: please use MorganGenerator\n",
            "[23:22:45] DEPRECATION WARNING: please use MorganGenerator\n",
            "[23:22:45] DEPRECATION WARNING: please use MorganGenerator\n",
            "[23:22:45] DEPRECATION WARNING: please use MorganGenerator\n",
            "[23:22:45] DEPRECATION WARNING: please use MorganGenerator\n",
            "[23:22:45] DEPRECATION WARNING: please use MorganGenerator\n",
            "[23:22:45] DEPRECATION WARNING: please use AtomPairGenerator\n",
            "[23:22:45] DEPRECATION WARNING: please use AtomPairGenerator\n",
            "[23:22:45] DEPRECATION WARNING: please use AtomPairGenerator\n",
            "[23:22:45] DEPRECATION WARNING: please use AtomPairGenerator\n",
            "[23:22:45] DEPRECATION WARNING: please use AtomPairGenerator\n",
            "[23:22:45] DEPRECATION WARNING: please use AtomPairGenerator\n",
            "[23:22:45] DEPRECATION WARNING: please use AtomPairGenerator\n",
            "[23:22:45] DEPRECATION WARNING: please use AtomPairGenerator\n",
            "[23:22:45] DEPRECATION WARNING: please use AtomPairGenerator\n",
            "[23:22:45] DEPRECATION WARNING: please use AtomPairGenerator\n",
            "[23:22:45] DEPRECATION WARNING: please use AtomPairGenerator\n",
            "[23:22:45] DEPRECATION WARNING: please use AtomPairGenerator\n",
            "[23:22:45] DEPRECATION WARNING: please use AtomPairGenerator\n",
            "[23:22:45] DEPRECATION WARNING: please use AtomPairGenerator\n",
            "[23:22:45] DEPRECATION WARNING: please use AtomPairGenerator\n",
            "[23:22:45] DEPRECATION WARNING: please use AtomPairGenerator\n",
            "[23:22:45] DEPRECATION WARNING: please use AtomPairGenerator\n",
            "[23:22:45] DEPRECATION WARNING: please use AtomPairGenerator\n",
            "[23:22:45] DEPRECATION WARNING: please use AtomPairGenerator\n",
            "[23:22:45] DEPRECATION WARNING: please use AtomPairGenerator\n",
            "[23:22:45] DEPRECATION WARNING: please use AtomPairGenerator\n",
            "[23:22:45] DEPRECATION WARNING: please use AtomPairGenerator\n",
            "[23:22:45] DEPRECATION WARNING: please use AtomPairGenerator\n",
            "[23:22:45] DEPRECATION WARNING: please use AtomPairGenerator\n",
            "[23:22:45] DEPRECATION WARNING: please use AtomPairGenerator\n",
            "[23:22:45] DEPRECATION WARNING: please use AtomPairGenerator\n",
            "[23:22:45] DEPRECATION WARNING: please use AtomPairGenerator\n",
            "[23:22:45] DEPRECATION WARNING: please use AtomPairGenerator\n",
            "[23:22:45] DEPRECATION WARNING: please use AtomPairGenerator\n",
            "[23:22:45] DEPRECATION WARNING: please use AtomPairGenerator\n",
            "[23:22:45] DEPRECATION WARNING: please use AtomPairGenerator\n",
            "[23:22:45] DEPRECATION WARNING: please use AtomPairGenerator\n",
            "[23:22:45] DEPRECATION WARNING: please use AtomPairGenerator\n",
            "[23:22:45] DEPRECATION WARNING: please use AtomPairGenerator\n",
            "[23:22:45] DEPRECATION WARNING: please use AtomPairGenerator\n",
            "[23:22:45] DEPRECATION WARNING: please use AtomPairGenerator\n",
            "[23:22:45] DEPRECATION WARNING: please use AtomPairGenerator\n",
            "[23:22:45] DEPRECATION WARNING: please use AtomPairGenerator\n",
            "[23:22:45] DEPRECATION WARNING: please use AtomPairGenerator\n",
            "[23:22:45] DEPRECATION WARNING: please use AtomPairGenerator\n",
            "[23:22:45] DEPRECATION WARNING: please use AtomPairGenerator\n",
            "[23:22:45] DEPRECATION WARNING: please use AtomPairGenerator\n",
            "[23:22:45] DEPRECATION WARNING: please use AtomPairGenerator\n",
            "[23:22:45] DEPRECATION WARNING: please use AtomPairGenerator\n",
            "[23:22:45] DEPRECATION WARNING: please use AtomPairGenerator\n",
            "[23:22:45] DEPRECATION WARNING: please use AtomPairGenerator\n",
            "[23:22:45] DEPRECATION WARNING: please use AtomPairGenerator\n",
            "[23:22:45] DEPRECATION WARNING: please use AtomPairGenerator\n",
            "[23:22:45] DEPRECATION WARNING: please use AtomPairGenerator\n",
            "[23:22:45] DEPRECATION WARNING: please use AtomPairGenerator\n",
            "[23:22:45] DEPRECATION WARNING: please use AtomPairGenerator\n",
            "[23:22:45] DEPRECATION WARNING: please use AtomPairGenerator\n",
            "[23:22:45] DEPRECATION WARNING: please use AtomPairGenerator\n",
            "[23:22:45] DEPRECATION WARNING: please use AtomPairGenerator\n",
            "[23:22:45] DEPRECATION WARNING: please use AtomPairGenerator\n",
            "[23:22:45] DEPRECATION WARNING: please use AtomPairGenerator\n",
            "[23:22:45] DEPRECATION WARNING: please use AtomPairGenerator\n",
            "[23:22:45] DEPRECATION WARNING: please use AtomPairGenerator\n",
            "[23:22:45] DEPRECATION WARNING: please use AtomPairGenerator\n",
            "[23:22:45] DEPRECATION WARNING: please use AtomPairGenerator\n",
            "[23:22:45] DEPRECATION WARNING: please use AtomPairGenerator\n",
            "[23:22:45] DEPRECATION WARNING: please use AtomPairGenerator\n",
            "[23:22:45] DEPRECATION WARNING: please use AtomPairGenerator\n",
            "[23:22:45] DEPRECATION WARNING: please use TopologicalTorsionGenerator\n",
            "[23:22:45] DEPRECATION WARNING: please use TopologicalTorsionGenerator\n",
            "[23:22:45] DEPRECATION WARNING: please use TopologicalTorsionGenerator\n",
            "[23:22:45] DEPRECATION WARNING: please use TopologicalTorsionGenerator\n",
            "[23:22:45] DEPRECATION WARNING: please use TopologicalTorsionGenerator\n",
            "[23:22:45] DEPRECATION WARNING: please use TopologicalTorsionGenerator\n",
            "[23:22:45] DEPRECATION WARNING: please use TopologicalTorsionGenerator\n",
            "[23:22:45] DEPRECATION WARNING: please use TopologicalTorsionGenerator\n",
            "[23:22:45] DEPRECATION WARNING: please use TopologicalTorsionGenerator\n",
            "[23:22:45] DEPRECATION WARNING: please use TopologicalTorsionGenerator\n",
            "[23:22:45] DEPRECATION WARNING: please use TopologicalTorsionGenerator\n",
            "[23:22:45] DEPRECATION WARNING: please use TopologicalTorsionGenerator\n",
            "[23:22:45] DEPRECATION WARNING: please use TopologicalTorsionGenerator\n",
            "[23:22:45] DEPRECATION WARNING: please use TopologicalTorsionGenerator\n",
            "[23:22:45] DEPRECATION WARNING: please use TopologicalTorsionGenerator\n",
            "[23:22:45] DEPRECATION WARNING: please use TopologicalTorsionGenerator\n",
            "[23:22:45] DEPRECATION WARNING: please use TopologicalTorsionGenerator\n",
            "[23:22:45] DEPRECATION WARNING: please use TopologicalTorsionGenerator\n",
            "[23:22:45] DEPRECATION WARNING: please use TopologicalTorsionGenerator\n",
            "[23:22:45] DEPRECATION WARNING: please use TopologicalTorsionGenerator\n",
            "[23:22:45] DEPRECATION WARNING: please use TopologicalTorsionGenerator\n",
            "[23:22:45] DEPRECATION WARNING: please use TopologicalTorsionGenerator\n",
            "[23:22:45] DEPRECATION WARNING: please use TopologicalTorsionGenerator\n",
            "[23:22:45] DEPRECATION WARNING: please use TopologicalTorsionGenerator\n",
            "[23:22:45] DEPRECATION WARNING: please use TopologicalTorsionGenerator\n",
            "[23:22:45] DEPRECATION WARNING: please use TopologicalTorsionGenerator\n",
            "[23:22:45] DEPRECATION WARNING: please use TopologicalTorsionGenerator\n",
            "[23:22:45] DEPRECATION WARNING: please use TopologicalTorsionGenerator\n",
            "[23:22:45] DEPRECATION WARNING: please use TopologicalTorsionGenerator\n",
            "[23:22:45] DEPRECATION WARNING: please use TopologicalTorsionGenerator\n",
            "[23:22:45] DEPRECATION WARNING: please use TopologicalTorsionGenerator\n",
            "[23:22:45] DEPRECATION WARNING: please use TopologicalTorsionGenerator\n",
            "[23:22:45] DEPRECATION WARNING: please use TopologicalTorsionGenerator\n",
            "[23:22:45] DEPRECATION WARNING: please use TopologicalTorsionGenerator\n",
            "[23:22:45] DEPRECATION WARNING: please use TopologicalTorsionGenerator\n",
            "[23:22:45] DEPRECATION WARNING: please use TopologicalTorsionGenerator\n",
            "[23:22:45] DEPRECATION WARNING: please use TopologicalTorsionGenerator\n",
            "[23:22:45] DEPRECATION WARNING: please use TopologicalTorsionGenerator\n",
            "[23:22:45] DEPRECATION WARNING: please use TopologicalTorsionGenerator\n",
            "[23:22:45] DEPRECATION WARNING: please use TopologicalTorsionGenerator\n",
            "[23:22:45] DEPRECATION WARNING: please use TopologicalTorsionGenerator\n",
            "[23:22:45] DEPRECATION WARNING: please use TopologicalTorsionGenerator\n",
            "[23:22:45] DEPRECATION WARNING: please use TopologicalTorsionGenerator\n",
            "[23:22:45] DEPRECATION WARNING: please use TopologicalTorsionGenerator\n",
            "[23:22:45] DEPRECATION WARNING: please use TopologicalTorsionGenerator\n",
            "[23:22:45] DEPRECATION WARNING: please use TopologicalTorsionGenerator\n",
            "[23:22:45] DEPRECATION WARNING: please use TopologicalTorsionGenerator\n",
            "[23:22:45] DEPRECATION WARNING: please use TopologicalTorsionGenerator\n",
            "[23:22:45] DEPRECATION WARNING: please use TopologicalTorsionGenerator\n",
            "[23:22:45] DEPRECATION WARNING: please use TopologicalTorsionGenerator\n",
            "[23:22:45] DEPRECATION WARNING: please use TopologicalTorsionGenerator\n",
            "[23:22:45] DEPRECATION WARNING: please use TopologicalTorsionGenerator\n",
            "[23:22:45] DEPRECATION WARNING: please use TopologicalTorsionGenerator\n",
            "[23:22:45] DEPRECATION WARNING: please use TopologicalTorsionGenerator\n",
            "[23:22:45] DEPRECATION WARNING: please use TopologicalTorsionGenerator\n",
            "[23:22:45] DEPRECATION WARNING: please use TopologicalTorsionGenerator\n",
            "[23:22:45] DEPRECATION WARNING: please use TopologicalTorsionGenerator\n",
            "[23:22:45] DEPRECATION WARNING: please use TopologicalTorsionGenerator\n",
            "[23:22:45] DEPRECATION WARNING: please use TopologicalTorsionGenerator\n",
            "[23:22:45] DEPRECATION WARNING: please use TopologicalTorsionGenerator\n",
            "[23:22:45] DEPRECATION WARNING: please use TopologicalTorsionGenerator\n",
            "[23:22:45] DEPRECATION WARNING: please use TopologicalTorsionGenerator\n",
            "[23:22:45] DEPRECATION WARNING: please use TopologicalTorsionGenerator\n"
          ]
        },
        {
          "output_type": "stream",
          "name": "stdout",
          "text": [
            "\n",
            "Training models and computing mean/std R2 ...\n",
            "\n",
            "Morgan-linear                   Mean R2 = 0.1194   Std = 0.4298\n",
            "Morgan-rbf                      Mean R2 = 0.1372   Std = 0.2446\n",
            "Morgan-sigmoid                  Mean R2 = -0.4845   Std = 0.5743\n",
            "MACCS-linear                    Mean R2 = -0.6501   Std = 1.0121\n",
            "MACCS-rbf                       Mean R2 = 0.1859   Std = 0.2550\n",
            "MACCS-sigmoid                   Mean R2 = -0.2336   Std = 0.4644\n",
            "Avalon-linear                   Mean R2 = 0.1868   Std = 0.4305\n",
            "Avalon-rbf                      Mean R2 = 0.0792   Std = 0.2454\n",
            "Avalon-sigmoid                  Mean R2 = 0.1871   Std = 0.2770\n",
            "Daylight-linear                 Mean R2 = 0.1968   Std = 0.4112\n",
            "Daylight-rbf                    Mean R2 = 0.1019   Std = 0.2479\n",
            "Daylight-sigmoid                Mean R2 = 0.1241   Std = 0.2564\n",
            "AtomPairs-linear                Mean R2 = 0.2460   Std = 0.3955\n",
            "AtomPairs-rbf                   Mean R2 = 0.1610   Std = 0.2312\n",
            "AtomPairs-sigmoid               Mean R2 = 0.1357   Std = 0.2606\n",
            "Torsion-linear                  Mean R2 = 0.3263   Std = 0.3512\n",
            "Torsion-rbf                     Mean R2 = 0.2077   Std = 0.2505\n",
            "Torsion-sigmoid                 Mean R2 = -0.6067   Std = 0.6626\n",
            "\n",
            "==============================================================\n",
            "Model                          |  Mean R2 |   Std R2\n",
            "--------------------------------------------------------------\n",
            "Morgan-linear                  |   0.1194 |   0.4298\n",
            "Morgan-rbf                     |   0.1372 |   0.2446\n",
            "Morgan-sigmoid                 |  -0.4845 |   0.5743\n",
            "MACCS-linear                   |  -0.6501 |   1.0121\n",
            "MACCS-rbf                      |   0.1859 |   0.2550\n",
            "MACCS-sigmoid                  |  -0.2336 |   0.4644\n",
            "Avalon-linear                  |   0.1868 |   0.4305\n",
            "Avalon-rbf                     |   0.0792 |   0.2454\n",
            "Avalon-sigmoid                 |   0.1871 |   0.2770\n",
            "Daylight-linear                |   0.1968 |   0.4112\n",
            "Daylight-rbf                   |   0.1019 |   0.2479\n",
            "Daylight-sigmoid               |   0.1241 |   0.2564\n",
            "AtomPairs-linear               |   0.2460 |   0.3955\n",
            "AtomPairs-rbf                  |   0.1610 |   0.2312\n",
            "AtomPairs-sigmoid              |   0.1357 |   0.2606\n",
            "Torsion-linear                 |   0.3263 |   0.3512\n",
            "Torsion-rbf                    |   0.2077 |   0.2505\n",
            "Torsion-sigmoid                |  -0.6067 |   0.6626\n",
            "==============================================================\n"
          ]
        }
      ]
    }
  ]
}